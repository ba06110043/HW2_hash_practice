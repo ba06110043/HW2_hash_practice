{
 "cells": [
  {
   "cell_type": "code",
   "execution_count": 1,
   "id": "78563441",
   "metadata": {},
   "outputs": [
    {
     "name": "stdout",
     "output_type": "stream",
     "text": [
      "總共有10個不同的英文字\n",
      "Cheese\n",
      "總共有234個\n",
      "Pizza\n",
      "總共有83個\n",
      "Coke\n",
      "總共有144個\n",
      "Steak\n",
      "總共有46個\n",
      "Burger\n",
      "總共有196個\n",
      "Fries\n",
      "總共有76個\n",
      "Rib\n",
      "總共有33個\n",
      "Taco\n",
      "總共有57個\n",
      "Pho\n",
      "總共有19個\n",
      "Potato\n",
      "總共有3個\n"
     ]
    }
   ],
   "source": [
    "open(\"hw2_data.txt\", mode=\"r\")\n",
    "\n",
    "f = open(\"hw2_data.txt\", mode=\"r\")\n",
    "\n",
    "text = f.readlines()\n",
    "\n",
    "f.close()\n",
    "\n",
    "number = len(text)\n",
    "\n",
    "dict1 = {}\n",
    "\n",
    "dict1 = {text[0]:0}\n",
    "\n",
    "n = 0\n",
    "k = 0\n",
    "\n",
    "for n in range(0,number-1):\n",
    "    if text[n] in dict1:\n",
    "        n = n + 1\n",
    "    else :\n",
    "        dict1[text[n]] = k\n",
    "        n = n + 1\n",
    "        k = k + 1\n",
    "        \n",
    "kt = k+1\n",
    "\n",
    "print(\"總共有\" + str(kt) + \"個不同的英文字\")\n",
    "\n",
    "for i in dict1:\n",
    "    print(i + \"總共有\" + str(text.count(i)) + \"個\")"
   ]
  },
  {
   "cell_type": "code",
   "execution_count": null,
   "id": "80d54682",
   "metadata": {},
   "outputs": [],
   "source": []
  }
 ],
 "metadata": {
  "kernelspec": {
   "display_name": "Python 3 (ipykernel)",
   "language": "python",
   "name": "python3"
  },
  "language_info": {
   "codemirror_mode": {
    "name": "ipython",
    "version": 3
   },
   "file_extension": ".py",
   "mimetype": "text/x-python",
   "name": "python",
   "nbconvert_exporter": "python",
   "pygments_lexer": "ipython3",
   "version": "3.9.12"
  }
 },
 "nbformat": 4,
 "nbformat_minor": 5
}
